{
 "cells": [
  {
   "cell_type": "code",
   "execution_count": 1,
   "metadata": {},
   "outputs": [],
   "source": [
    "# import nordypy\n",
    "# # nordypy.create_config_file(path='/Users/ficg/Desktop/')\n",
    "\n",
    "# sql = \"select * from hautelook.dim_member dm limit 10\"\n",
    "# data = nordypy.database_get_data(database_key='dsa',\n",
    "#                                  yaml_filepath='/Users/ficg/Desktop/Github/test_for_package/config.yaml',\n",
    "#                                  sql=sql,\n",
    "#                                  as_pandas=True)"
   ]
  },
  {
   "cell_type": "code",
   "execution_count": 26,
   "metadata": {},
   "outputs": [],
   "source": [
    "import pandas as pd\n",
    "data = pd.read_csv('./test.csv')"
   ]
  },
  {
   "cell_type": "code",
   "execution_count": null,
   "metadata": {},
   "outputs": [],
   "source": [
    "# import plotly.express as px\n",
    "# fig = px.scatter(df, x='Neighborhood', y='Price (US Dollars)'\n",
    "#                  ,size='Accommodates'\n",
    "#                  , hover_data=['Bedrooms', 'Wifi', 'Cable TV', 'Kitchen', 'Washer', 'Number of Reviews']\n",
    "#                  ,color= 'Room Type')\n",
    "# fig.update_layout(template='plotly_white')\n",
    "# fig.update_layout(title='How much should you charge in a Berlin neighborhood?')\n",
    "# fig.show()"
   ]
  },
  {
   "cell_type": "code",
   "execution_count": 14,
   "metadata": {},
   "outputs": [],
   "source": [
    "import plotly.graph_objects as go\n",
    "from ipywidgets import widgets\n",
    "def drawPlot_EoiRatio(data):\n",
    "    selection_range_slider1 = widgets.Dropdown(\n",
    "        options=list(set(data.member_join_date.map(str)[:10])),\n",
    "        value='2007-11-29',\n",
    "        #rows=10,\n",
    "        description='Variables:'\n",
    "    )\n",
    "\n",
    "    trace_accuracy1 = go.Scatter(yaxis='y1',opacity=0.75, name='y1',mode='markers')\n",
    "    #     trace_accuracy2 = go.Scatter(yaxis='y2',opacity=0.75, name='y2',mode='lines')\n",
    "\n",
    "    layout=dict(yaxis2=dict(side='right', overlaying='y1'))\n",
    "    g = go.FigureWidget(data=[trace_accuracy1],\n",
    "                        layout=layout)\n",
    "\n",
    "\n",
    "    def response(change):\n",
    "        with g.batch_update():\n",
    "            for i in g.data:\n",
    "                i.x = None\n",
    "                i.y = None\n",
    "                i.name = None\n",
    "            time_period = selection_range_slider1.value\n",
    "            agg = data.loc[data.member_join_date.map(str)[:10]==time_period].fillna(0).groupby('dlx_age').size().reset_index()\n",
    "            agg.columns = ['age','count']\n",
    "            g.data[0].y = agg['count'].map(int).to_list()\n",
    "            g.data[0].x = agg['age'].map(int).to_list()\n",
    "#             g.data[i].name = category\n",
    "\n",
    "    selection_range_slider1.observe(response, names=\"value\")\n",
    "\n",
    "    return widgets.VBox([selection_range_slider1,\n",
    "                  g])"
   ]
  },
  {
   "cell_type": "code",
   "execution_count": 17,
   "metadata": {},
   "outputs": [],
   "source": [
    "drawPlot_EoiRatio(data)"
   ]
  },
  {
   "cell_type": "code",
   "execution_count": null,
   "metadata": {},
   "outputs": [],
   "source": []
  }
 ],
 "metadata": {
  "kernelspec": {
   "display_name": "Python 3",
   "language": "python",
   "name": "python3"
  },
  "language_info": {
   "codemirror_mode": {
    "name": "ipython",
    "version": 3
   },
   "file_extension": ".py",
   "mimetype": "text/x-python",
   "name": "python",
   "nbconvert_exporter": "python",
   "pygments_lexer": "ipython3",
   "version": "3.8.5"
  }
 },
 "nbformat": 4,
 "nbformat_minor": 4
}
